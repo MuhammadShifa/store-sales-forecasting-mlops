{
 "cells": [
  {
   "cell_type": "markdown",
   "id": "e7abd60c",
   "metadata": {},
   "source": [
    "### Senario: Mlflow is Running remotely at ec2\n",
    "\n",
    "MLflow setup:\n",
    "\n",
    "- Tracking server: yes, remote server (EC2).\n",
    "- Backend store: postgresql database.\n",
    "- Artifacts store: s3 bucket.\n",
    "The experiments can be explored by accessing the remote server.\n",
    "\n",
    "The exampe uses AWS to host a remote server. In order to run the example you'll need an AWS account. Follow the steps described in the file [`mlflow_on_aws.md`](https://github.com/DataTalksClub/mlops-zoomcamp/blob/main/02-experiment-tracking/mlflow_on_aws.md) to create a new AWS account and launch the tracking server."
   ]
  },
  {
   "cell_type": "code",
   "execution_count": 1,
   "id": "da5deafd",
   "metadata": {},
   "outputs": [],
   "source": [
    "import mlflow\n",
    "import os\n",
    "\n",
    "TRACKING_SERVER_HOST = \"ec2-13-233-121-70.ap-south-1.compute.amazonaws.com\" # fill in with the public DNS of the EC2 instance\n",
    "mlflow.set_tracking_uri(f\"http://{TRACKING_SERVER_HOST}:5000\")"
   ]
  },
  {
   "cell_type": "code",
   "execution_count": 2,
   "id": "dde7648b",
   "metadata": {},
   "outputs": [
    {
     "name": "stdout",
     "output_type": "stream",
     "text": [
      "tracking URI: 'http://ec2-13-233-121-70.ap-south-1.compute.amazonaws.com:5000'\n"
     ]
    }
   ],
   "source": [
    "print(f\"tracking URI: '{mlflow.get_tracking_uri()}'\")\n"
   ]
  },
  {
   "cell_type": "code",
   "execution_count": 3,
   "id": "304d4cbd",
   "metadata": {},
   "outputs": [
    {
     "data": {
      "text/plain": [
       "[<Experiment: artifact_location='s3://mlartifact-s3/5', creation_time=1753734733192, experiment_id='5', last_update_time=1753734733192, lifecycle_stage='active', name='store-sales-prediction-orchestration', tags={}>,\n",
       " <Experiment: artifact_location='s3://mlartifact-s3/4', creation_time=1753733399891, experiment_id='4', last_update_time=1753733399891, lifecycle_stage='active', name='store-sales-hyperopt-random-forest', tags={}>,\n",
       " <Experiment: artifact_location='s3://mlartifact-s3/3', creation_time=1753732199567, experiment_id='3', last_update_time=1753732199567, lifecycle_stage='active', name='random-forest-best-models', tags={}>,\n",
       " <Experiment: artifact_location='s3://mlartifact-s3/2', creation_time=1753727040615, experiment_id='2', last_update_time=1753727040615, lifecycle_stage='active', name='store-sales-prediction', tags={}>,\n",
       " <Experiment: artifact_location='s3://mlartifact-s3/0', creation_time=1751400670126, experiment_id='0', last_update_time=1751400670126, lifecycle_stage='active', name='Default', tags={}>]"
      ]
     },
     "execution_count": 3,
     "metadata": {},
     "output_type": "execute_result"
    }
   ],
   "source": [
    "mlflow.search_experiments() # list_experiments API has been removed, you can use search_experiments instead.()\n"
   ]
  },
  {
   "cell_type": "code",
   "execution_count": 4,
   "id": "e44dbf9f",
   "metadata": {},
   "outputs": [
    {
     "name": "stderr",
     "output_type": "stream",
     "text": [
      "2025/07/29 03:13:09 INFO mlflow.tracking.fluent: Experiment with name 'sales-prediciton-rf-reg' does not exist. Creating a new experiment.\n"
     ]
    },
    {
     "data": {
      "text/plain": [
       "<Experiment: artifact_location='s3://mlartifact-s3/6', creation_time=1753740789943, experiment_id='6', last_update_time=1753740789943, lifecycle_stage='active', name='sales-prediciton-rf-reg', tags={}>"
      ]
     },
     "execution_count": 4,
     "metadata": {},
     "output_type": "execute_result"
    }
   ],
   "source": [
    "# set-up mflow experiment\n",
    "mlflow.set_experiment(\"sales-prediciton-rf-reg\")"
   ]
  },
  {
   "cell_type": "code",
   "execution_count": 5,
   "id": "07631d10",
   "metadata": {},
   "outputs": [],
   "source": [
    "import pickle\n",
    "\n",
    "import pandas as pd\n",
    "\n",
    "from sklearn.feature_extraction import DictVectorizer\n",
    "from sklearn.ensemble import RandomForestRegressor\n",
    "from sklearn.metrics import mean_squared_error\n",
    "from sklearn.pipeline import make_pipeline\n"
   ]
  },
  {
   "cell_type": "code",
   "execution_count": 6,
   "id": "cf17d20e",
   "metadata": {},
   "outputs": [],
   "source": [
    "import warnings\n",
    "warnings.filterwarnings('ignore')"
   ]
  },
  {
   "cell_type": "code",
   "execution_count": 7,
   "id": "02a70658",
   "metadata": {},
   "outputs": [],
   "source": [
    "# read the csv file\n",
    "def read_dataframe(filename):\n",
    "    df = pd.read_csv(filename)  \n",
    "    \n",
    "    return df\n",
    "    "
   ]
  },
  {
   "cell_type": "code",
   "execution_count": 8,
   "id": "b218d2a2",
   "metadata": {},
   "outputs": [],
   "source": [
    "# dataframe feature in dictionary\n",
    "def prepare_features(df):\n",
    "    df[\"date\"] = pd.to_datetime(df[\"date\"])\n",
    "    \n",
    "    # Feature Engineering — Date-based features\n",
    "    df[\"year\"] = df[\"date\"].dt.year\n",
    "    df[\"month\"] = df[\"date\"].dt.month\n",
    "    df[\"day\"] = df[\"date\"].dt.day\n",
    "    df[\"dayofweek\"] = df[\"date\"].dt.dayofweek\n",
    "    df[\"is_weekend\"] = df[\"dayofweek\"].isin([5, 6]).astype(int)\n",
    "\n",
    "    # Define categorical features\n",
    "    categorical = [\"store\", \"promo\", \"holiday\", \"year\", \"month\", \"dayofweek\", \"is_weekend\"]\n",
    "    df_dicts = df[categorical].to_dict(orient=\"records\")\n",
    "\n",
    "    return df_dicts"
   ]
  },
  {
   "cell_type": "code",
   "execution_count": 9,
   "id": "43affdf5",
   "metadata": {},
   "outputs": [],
   "source": [
    "# load and read datasets\n",
    "df_train = read_dataframe(\"./input_data/train.csv\")\n",
    "df_val = read_dataframe(\"./input_data/test.csv\")\n",
    "\n",
    "target = 'sales'\n",
    "y_train = df_train[target].values\n",
    "y_val = df_val[target].values"
   ]
  },
  {
   "cell_type": "code",
   "execution_count": 10,
   "id": "acf91e30",
   "metadata": {},
   "outputs": [],
   "source": [
    "# feature_engineering\n",
    "dict_train = prepare_features(df_train)\n",
    "dict_val = prepare_features(df_val)"
   ]
  },
  {
   "cell_type": "markdown",
   "id": "9f084483",
   "metadata": {},
   "source": [
    "### Train RandomForestRegressor"
   ]
  },
  {
   "cell_type": "code",
   "execution_count": 11,
   "id": "51b2e564",
   "metadata": {},
   "outputs": [
    {
     "name": "stdout",
     "output_type": "stream",
     "text": [
      "{'max_depth': 20, 'n_estimators': 100, 'min_samples_leaf': 10, 'random_state': 0} 7.558145882869018\n"
     ]
    },
    {
     "name": "stderr",
     "output_type": "stream",
     "text": [
      "\u001b[31m2025/07/29 03:14:23 WARNING mlflow.models.model: Model logged without a signature and input example. Please set `input_example` parameter when logging the model to auto infer the model signature.\u001b[0m\n"
     ]
    },
    {
     "name": "stdout",
     "output_type": "stream",
     "text": [
      "🏃 View run sincere-auk-734 at: http://ec2-13-233-121-70.ap-south-1.compute.amazonaws.com:5000/#/experiments/6/runs/080e0226c1fc49cc818d3c023625b36d\n",
      "🧪 View experiment at: http://ec2-13-233-121-70.ap-south-1.compute.amazonaws.com:5000/#/experiments/6\n"
     ]
    }
   ],
   "source": [
    "with mlflow.start_run():\n",
    "    params = dict(max_depth=20, n_estimators=100, min_samples_leaf=10, random_state=0)\n",
    "    mlflow.log_params(params)\n",
    "\n",
    "    pipeline = make_pipeline(\n",
    "        DictVectorizer(),\n",
    "        RandomForestRegressor(**params, n_jobs=-1)\n",
    "    )\n",
    "\n",
    "    pipeline.fit(dict_train, y_train)\n",
    "    y_pred = pipeline.predict(dict_val)\n",
    "\n",
    "    rmse = mean_squared_error(y_pred, y_val, squared=False)\n",
    "    print(params, rmse)\n",
    "    mlflow.log_metric('rmse', rmse)\n",
    "\n",
    "    mlflow.sklearn.log_model(pipeline, artifact_path=\"model\")"
   ]
  },
  {
   "cell_type": "code",
   "execution_count": null,
   "id": "79a7fb65",
   "metadata": {},
   "outputs": [],
   "source": []
  }
 ],
 "metadata": {
  "kernelspec": {
   "display_name": "main",
   "language": "python",
   "name": "main"
  },
  "language_info": {
   "codemirror_mode": {
    "name": "ipython",
    "version": 3
   },
   "file_extension": ".py",
   "mimetype": "text/x-python",
   "name": "python",
   "nbconvert_exporter": "python",
   "pygments_lexer": "ipython3",
   "version": "3.9.0"
  }
 },
 "nbformat": 4,
 "nbformat_minor": 5
}
